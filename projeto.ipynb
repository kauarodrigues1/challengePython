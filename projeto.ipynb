{
 "cells": [
  {
   "cell_type": "code",
   "execution_count": 3,
   "metadata": {},
   "outputs": [],
   "source": [
    "import tkinter as tk\n",
    "from tkinter import messagebox\n",
    "from tkinter import ttk\n",
    "import pandas as pd\n",
    "\n",
    "dados_pacientes = []\n",
    "\n",
    "janela = tk.Tk()\n",
    "janela.title(\"Formulário Paciente\")\n",
    "janela.geometry(\"350x300\")\n",
    "janela.iconbitmap(\"./assets/hp.ico\")\n",
    "\n",
    "def enviar_dados():\n",
    "    nome = entrada_nome.get()\n",
    "    sintoma = entrada_sintoma.get()\n",
    "    temperatura = entrada_temp.get()\n",
    "    gravidade = combo_gravidade.get()\n",
    "    \n",
    "    if nome and sintoma and temperatura and gravidade:\n",
    "        dados_pacientes.append([nome, sintoma, temperatura, gravidade])\n",
    "        messagebox.showinfo(\"Sucesso\", f\"Informações do paciente '{nome}' foram enviadas!\")\n",
    "        entrada_nome.delete(0, tk.END)\n",
    "        entrada_sintoma.delete(0, tk.END)\n",
    "        entrada_temp.delete(0, tk.END)\n",
    "        combo_gravidade.set(\"\")\n",
    "    else:\n",
    "        messagebox.showwarning(\"Erro\", \"Por favor, preencha todos os campos!\")\n",
    "\n",
    "def salvar_csv():\n",
    "    if dados_pacientes:\n",
    "        df = pd.DataFrame(dados_pacientes, columns=[\"Paciente\", \"Sintoma\", \"Temperatura\", \"Gravidade Clínica\"])\n",
    "        df.to_csv(\"pacientes.csv\", index=False, encoding=\"utf-8\")\n",
    "        messagebox.showinfo(\"Sucesso\", \"Os dados foram salvos em 'pacientes.csv'!\")\n",
    "    else:\n",
    "        messagebox.showwarning(\"Aviso\", \"Nenhum dado para salvar!\")\n",
    "\n",
    "tk.Label(janela, text=\"Paciente:\").pack(pady=2)\n",
    "entrada_nome = tk.Entry(janela)\n",
    "entrada_nome.pack(pady=2)\n",
    "\n",
    "tk.Label(janela, text=\"Sintoma:\").pack(pady=2)\n",
    "entrada_sintoma = tk.Entry(janela)\n",
    "entrada_sintoma.pack(pady=2)\n",
    "\n",
    "tk.Label(janela, text=\"Temperatura:\").pack(pady=2)\n",
    "entrada_temp = tk.Entry(janela)\n",
    "entrada_temp.pack(pady=2)\n",
    "\n",
    "tk.Label(janela, text=\"Gravidade Clínica:\").pack(pady=2)\n",
    "opcoes_gravidade = [\"Estável\", \"Grave\", \"Crítico\"]\n",
    "combo_gravidade = ttk.Combobox(janela, values=opcoes_gravidade, state=\"readonly\")\n",
    "combo_gravidade.pack(pady=2)\n",
    "\n",
    "botao_enviar = tk.Button(janela, text=\"Enviar\", command=enviar_dados)\n",
    "botao_enviar.pack(pady=5)\n",
    "\n",
    "#botao_ver_dados = tk.Button(janela, text=\"Ver Dados\", command=mostrar_dataframe)\n",
    "#botao_ver_dados.pack(pady=5)\n",
    "\n",
    "botao_salvar_csv = tk.Button(janela, text=\"Salvar e Sair\", command=salvar_csv)\n",
    "botao_salvar_csv.pack(pady=5)\n",
    "\n",
    "janela.mainloop()\n"
   ]
  },
  {
   "cell_type": "code",
   "execution_count": 4,
   "metadata": {},
   "outputs": [
    {
     "name": "stdout",
     "output_type": "stream",
     "text": [
      "\n",
      "🔵 🔹 PACIENTES ESTÁVEIS\n"
     ]
    },
    {
     "data": {
      "text/html": [
       "<div>\n",
       "<style scoped>\n",
       "    .dataframe tbody tr th:only-of-type {\n",
       "        vertical-align: middle;\n",
       "    }\n",
       "\n",
       "    .dataframe tbody tr th {\n",
       "        vertical-align: top;\n",
       "    }\n",
       "\n",
       "    .dataframe thead th {\n",
       "        text-align: right;\n",
       "    }\n",
       "</style>\n",
       "<table border=\"1\" class=\"dataframe\">\n",
       "  <thead>\n",
       "    <tr style=\"text-align: right;\">\n",
       "      <th></th>\n",
       "      <th>Paciente</th>\n",
       "      <th>Sintoma</th>\n",
       "      <th>Temperatura</th>\n",
       "      <th>Gravidade Clínica</th>\n",
       "    </tr>\n",
       "  </thead>\n",
       "  <tbody>\n",
       "    <tr>\n",
       "      <th>0</th>\n",
       "      <td>kaua</td>\n",
       "      <td>tosse</td>\n",
       "      <td>39</td>\n",
       "      <td>Estável</td>\n",
       "    </tr>\n",
       "  </tbody>\n",
       "</table>\n",
       "</div>"
      ],
      "text/plain": [
       "  Paciente Sintoma  Temperatura Gravidade Clínica\n",
       "0    kaua    tosse           39           Estável"
      ]
     },
     "metadata": {},
     "output_type": "display_data"
    },
    {
     "name": "stdout",
     "output_type": "stream",
     "text": [
      "---------------------------------------------------\n",
      "🚑 PACIENTES EM ESTADO GRAVE\n"
     ]
    },
    {
     "data": {
      "text/html": [
       "<div>\n",
       "<style scoped>\n",
       "    .dataframe tbody tr th:only-of-type {\n",
       "        vertical-align: middle;\n",
       "    }\n",
       "\n",
       "    .dataframe tbody tr th {\n",
       "        vertical-align: top;\n",
       "    }\n",
       "\n",
       "    .dataframe thead th {\n",
       "        text-align: right;\n",
       "    }\n",
       "</style>\n",
       "<table border=\"1\" class=\"dataframe\">\n",
       "  <thead>\n",
       "    <tr style=\"text-align: right;\">\n",
       "      <th></th>\n",
       "      <th>Paciente</th>\n",
       "      <th>Sintoma</th>\n",
       "      <th>Temperatura</th>\n",
       "      <th>Gravidade Clínica</th>\n",
       "    </tr>\n",
       "  </thead>\n",
       "  <tbody>\n",
       "  </tbody>\n",
       "</table>\n",
       "</div>"
      ],
      "text/plain": [
       "Empty DataFrame\n",
       "Columns: [Paciente, Sintoma, Temperatura, Gravidade Clínica]\n",
       "Index: []"
      ]
     },
     "metadata": {},
     "output_type": "display_data"
    },
    {
     "name": "stdout",
     "output_type": "stream",
     "text": [
      "---------------------------------------------------\n",
      "\n",
      "🚨🔥 PACIENTES EM ESTADO CRÍTICO\n"
     ]
    },
    {
     "data": {
      "text/html": [
       "<div>\n",
       "<style scoped>\n",
       "    .dataframe tbody tr th:only-of-type {\n",
       "        vertical-align: middle;\n",
       "    }\n",
       "\n",
       "    .dataframe tbody tr th {\n",
       "        vertical-align: top;\n",
       "    }\n",
       "\n",
       "    .dataframe thead th {\n",
       "        text-align: right;\n",
       "    }\n",
       "</style>\n",
       "<table border=\"1\" class=\"dataframe\">\n",
       "  <thead>\n",
       "    <tr style=\"text-align: right;\">\n",
       "      <th></th>\n",
       "      <th>Paciente</th>\n",
       "      <th>Sintoma</th>\n",
       "      <th>Temperatura</th>\n",
       "      <th>Gravidade Clínica</th>\n",
       "    </tr>\n",
       "  </thead>\n",
       "  <tbody>\n",
       "    <tr>\n",
       "      <th>1</th>\n",
       "      <td>ana</td>\n",
       "      <td>febre</td>\n",
       "      <td>40</td>\n",
       "      <td>Crítico</td>\n",
       "    </tr>\n",
       "  </tbody>\n",
       "</table>\n",
       "</div>"
      ],
      "text/plain": [
       "  Paciente Sintoma  Temperatura Gravidade Clínica\n",
       "1      ana   febre           40           Crítico"
      ]
     },
     "metadata": {},
     "output_type": "display_data"
    },
    {
     "name": "stdout",
     "output_type": "stream",
     "text": [
      "---------------------------------------------------\n",
      "\n",
      "📊✨ DATAFRAME ORIGINAL\n"
     ]
    },
    {
     "data": {
      "text/html": [
       "<div>\n",
       "<style scoped>\n",
       "    .dataframe tbody tr th:only-of-type {\n",
       "        vertical-align: middle;\n",
       "    }\n",
       "\n",
       "    .dataframe tbody tr th {\n",
       "        vertical-align: top;\n",
       "    }\n",
       "\n",
       "    .dataframe thead th {\n",
       "        text-align: right;\n",
       "    }\n",
       "</style>\n",
       "<table border=\"1\" class=\"dataframe\">\n",
       "  <thead>\n",
       "    <tr style=\"text-align: right;\">\n",
       "      <th></th>\n",
       "      <th>Paciente</th>\n",
       "      <th>Sintoma</th>\n",
       "      <th>Temperatura</th>\n",
       "      <th>Gravidade Clínica</th>\n",
       "    </tr>\n",
       "  </thead>\n",
       "  <tbody>\n",
       "    <tr>\n",
       "      <th>0</th>\n",
       "      <td>kaua</td>\n",
       "      <td>tosse</td>\n",
       "      <td>39</td>\n",
       "      <td>Estável</td>\n",
       "    </tr>\n",
       "    <tr>\n",
       "      <th>1</th>\n",
       "      <td>ana</td>\n",
       "      <td>febre</td>\n",
       "      <td>40</td>\n",
       "      <td>Crítico</td>\n",
       "    </tr>\n",
       "  </tbody>\n",
       "</table>\n",
       "</div>"
      ],
      "text/plain": [
       "  Paciente Sintoma  Temperatura Gravidade Clínica\n",
       "0    kaua    tosse           39           Estável\n",
       "1      ana   febre           40           Crítico"
      ]
     },
     "metadata": {},
     "output_type": "display_data"
    },
    {
     "name": "stdout",
     "output_type": "stream",
     "text": [
      "---------------------------------------------------\n"
     ]
    }
   ],
   "source": [
    "df = pd.read_csv('pacientes.csv')\n",
    "\n",
    "\n",
    "\n",
    "pacientes_estaveis = df[df['Gravidade Clínica'].str.contains('Estável', case=False)]\n",
    "pacientes_graves = df[df['Gravidade Clínica'].str.contains('Grave', case=False)]\n",
    "pacientes_critico = df[df['Gravidade Clínica'].str.contains('Crítico', case=False)]\n",
    "\n",
    "\n",
    "print(\"\\n🔵 🔹 PACIENTES ESTÁVEIS\")\n",
    "display(pacientes_estaveis)\n",
    "print('-'*51)\n",
    "\n",
    "\n",
    "print(\"🚑 PACIENTES EM ESTADO GRAVE\")\n",
    "display(pacientes_graves)\n",
    "print('-'*51)\n",
    "\n",
    "\n",
    "print(\"\\n🚨🔥 PACIENTES EM ESTADO CRÍTICO\")\n",
    "display(pacientes_critico)\n",
    "print('-'*51)\n",
    "\n",
    "\n",
    "print(\"\\n📊✨ DATAFRAME ORIGINAL\")\n",
    "display(df)\n",
    "print('-'*51)\n",
    "\n"
   ]
  }
 ],
 "metadata": {
  "kernelspec": {
   "display_name": "Python 3",
   "language": "python",
   "name": "python3"
  },
  "language_info": {
   "codemirror_mode": {
    "name": "ipython",
    "version": 3
   },
   "file_extension": ".py",
   "mimetype": "text/x-python",
   "name": "python",
   "nbconvert_exporter": "python",
   "pygments_lexer": "ipython3",
   "version": "3.12.2"
  }
 },
 "nbformat": 4,
 "nbformat_minor": 2
}
